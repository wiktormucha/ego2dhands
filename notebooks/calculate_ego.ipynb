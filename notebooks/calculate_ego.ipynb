{
 "cells": [
  {
   "cell_type": "code",
   "execution_count": 1,
   "metadata": {},
   "outputs": [
    {
     "data": {
      "text/plain": [
       "'The file calculates results for egocentric testes from .csv file.'"
      ]
     },
     "execution_count": 1,
     "metadata": {},
     "output_type": "execute_result"
    }
   ],
   "source": [
    "'''The file calculates results for egocentric testes from .csv file.'''"
   ]
  },
  {
   "cell_type": "code",
   "execution_count": 45,
   "metadata": {},
   "outputs": [],
   "source": [
    "import pandas as pd"
   ]
  },
  {
   "cell_type": "markdown",
   "metadata": {},
   "source": []
  },
  {
   "cell_type": "code",
   "execution_count": 46,
   "metadata": {},
   "outputs": [],
   "source": [
    "df = pd.read_csv('../../egocentric_results.csv')"
   ]
  },
  {
   "cell_type": "code",
   "execution_count": 47,
   "metadata": {},
   "outputs": [],
   "source": [
    "pck_acc = df['pck_acc']\n",
    "epe_lst = df['epe_lst']\n",
    "auc_lst = df['auc_lst']\n"
   ]
  },
  {
   "cell_type": "code",
   "execution_count": 48,
   "metadata": {},
   "outputs": [
    {
     "name": "stdout",
     "output_type": "stream",
     "text": [
      "PCK@2: 0.9463299131807424, EPE: 5.340988487046859, AUC: 0.8831447864597027\n"
     ]
    }
   ],
   "source": [
    "pck = sum(pck_acc) / len(pck_acc)\n",
    "epe_final = sum(epe_lst) / len(epe_lst)\n",
    "auc_final = sum(auc_lst) / len(auc_lst)\n",
    "\n",
    "print (f'PCK@2: {pck}, EPE: {epe_final}, AUC: {auc_final}')"
   ]
  },
  {
   "cell_type": "markdown",
   "metadata": {},
   "source": []
  }
 ],
 "metadata": {
  "kernelspec": {
   "display_name": "hands_keypoints",
   "language": "python",
   "name": "python3"
  },
  "language_info": {
   "codemirror_mode": {
    "name": "ipython",
    "version": 3
   },
   "file_extension": ".py",
   "mimetype": "text/x-python",
   "name": "python",
   "nbconvert_exporter": "python",
   "pygments_lexer": "ipython3",
   "version": "3.8.10"
  },
  "orig_nbformat": 4,
  "vscode": {
   "interpreter": {
    "hash": "2a280fb21c1423496fb34162d68394b6a193e709eb8d743bf104afa5ed9d41e6"
   }
  }
 },
 "nbformat": 4,
 "nbformat_minor": 2
}
